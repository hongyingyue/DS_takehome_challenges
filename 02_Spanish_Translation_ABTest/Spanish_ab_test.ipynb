{
 "cells": [
  {
   "cell_type": "markdown",
   "metadata": {},
   "source": [
    "# Question Define\n",
    "\n",
    "- Confirm that the test is actually negative. That is, it appears that the old version of the site with just one translation across Spain and LatAm performs better \n",
    "- Explain why that might be happening. Are the localized translations really worse?\n",
    "- If you identified what was wrong, design an algorithm that would return FALSE if the same problem is happening in the future and TRUE if everything is good and the results can be trusted."
   ]
  },
  {
   "cell_type": "markdown",
   "metadata": {},
   "source": [
    "## Hypothesis\n",
    "\n",
    "- H0: No difference between the test group and reference group\n",
    "- H1: Significant difference between the two groups "
   ]
  },
  {
   "cell_type": "markdown",
   "metadata": {},
   "source": [
    "## Metric\n",
    "\n",
    "- Conversion: the label can be 0 or 1"
   ]
  },
  {
   "cell_type": "markdown",
   "metadata": {},
   "source": [
    "# Implementation"
   ]
  },
  {
   "cell_type": "code",
   "execution_count": 81,
   "metadata": {},
   "outputs": [],
   "source": [
    "import pandas as pd\n",
    "from scipy import stats\n",
    "\n",
    "import seaborn as sns\n",
    "import matplotlib.pyplot as plt\n",
    "%matplotlib inline"
   ]
  },
  {
   "cell_type": "code",
   "execution_count": 23,
   "metadata": {},
   "outputs": [],
   "source": [
    "import warnings\n",
    "warnings.filterwarnings(\"ignore\")"
   ]
  },
  {
   "cell_type": "markdown",
   "metadata": {},
   "source": [
    "## Load data tables"
   ]
  },
  {
   "cell_type": "code",
   "execution_count": 2,
   "metadata": {},
   "outputs": [],
   "source": [
    "df_test = pd.read_csv('test_table.csv')\n",
    "df_user = pd.read_csv('user_table.csv')"
   ]
  },
  {
   "cell_type": "code",
   "execution_count": 3,
   "metadata": {},
   "outputs": [
    {
     "data": {
      "text/html": [
       "<div>\n",
       "<style scoped>\n",
       "    .dataframe tbody tr th:only-of-type {\n",
       "        vertical-align: middle;\n",
       "    }\n",
       "\n",
       "    .dataframe tbody tr th {\n",
       "        vertical-align: top;\n",
       "    }\n",
       "\n",
       "    .dataframe thead th {\n",
       "        text-align: right;\n",
       "    }\n",
       "</style>\n",
       "<table border=\"1\" class=\"dataframe\">\n",
       "  <thead>\n",
       "    <tr style=\"text-align: right;\">\n",
       "      <th></th>\n",
       "      <th>user_id</th>\n",
       "      <th>date</th>\n",
       "      <th>source</th>\n",
       "      <th>device</th>\n",
       "      <th>browser_language</th>\n",
       "      <th>ads_channel</th>\n",
       "      <th>browser</th>\n",
       "      <th>conversion</th>\n",
       "      <th>test</th>\n",
       "    </tr>\n",
       "  </thead>\n",
       "  <tbody>\n",
       "    <tr>\n",
       "      <th>0</th>\n",
       "      <td>315281</td>\n",
       "      <td>12/3/2015</td>\n",
       "      <td>Direct</td>\n",
       "      <td>Web</td>\n",
       "      <td>ES</td>\n",
       "      <td>NaN</td>\n",
       "      <td>IE</td>\n",
       "      <td>1</td>\n",
       "      <td>0</td>\n",
       "    </tr>\n",
       "    <tr>\n",
       "      <th>1</th>\n",
       "      <td>497851</td>\n",
       "      <td>12/4/2015</td>\n",
       "      <td>Ads</td>\n",
       "      <td>Web</td>\n",
       "      <td>ES</td>\n",
       "      <td>Google</td>\n",
       "      <td>IE</td>\n",
       "      <td>0</td>\n",
       "      <td>1</td>\n",
       "    </tr>\n",
       "    <tr>\n",
       "      <th>2</th>\n",
       "      <td>848402</td>\n",
       "      <td>12/4/2015</td>\n",
       "      <td>Ads</td>\n",
       "      <td>Web</td>\n",
       "      <td>ES</td>\n",
       "      <td>Facebook</td>\n",
       "      <td>Chrome</td>\n",
       "      <td>0</td>\n",
       "      <td>0</td>\n",
       "    </tr>\n",
       "    <tr>\n",
       "      <th>3</th>\n",
       "      <td>290051</td>\n",
       "      <td>12/3/2015</td>\n",
       "      <td>Ads</td>\n",
       "      <td>Mobile</td>\n",
       "      <td>Other</td>\n",
       "      <td>Facebook</td>\n",
       "      <td>Android_App</td>\n",
       "      <td>0</td>\n",
       "      <td>1</td>\n",
       "    </tr>\n",
       "    <tr>\n",
       "      <th>4</th>\n",
       "      <td>548435</td>\n",
       "      <td>11/30/2015</td>\n",
       "      <td>Ads</td>\n",
       "      <td>Web</td>\n",
       "      <td>ES</td>\n",
       "      <td>Google</td>\n",
       "      <td>FireFox</td>\n",
       "      <td>0</td>\n",
       "      <td>1</td>\n",
       "    </tr>\n",
       "  </tbody>\n",
       "</table>\n",
       "</div>"
      ],
      "text/plain": [
       "   user_id        date  source  device browser_language ads_channel  \\\n",
       "0   315281   12/3/2015  Direct     Web               ES         NaN   \n",
       "1   497851   12/4/2015     Ads     Web               ES      Google   \n",
       "2   848402   12/4/2015     Ads     Web               ES    Facebook   \n",
       "3   290051   12/3/2015     Ads  Mobile            Other    Facebook   \n",
       "4   548435  11/30/2015     Ads     Web               ES      Google   \n",
       "\n",
       "       browser  conversion  test  \n",
       "0           IE           1     0  \n",
       "1           IE           0     1  \n",
       "2       Chrome           0     0  \n",
       "3  Android_App           0     1  \n",
       "4      FireFox           0     1  "
      ]
     },
     "execution_count": 3,
     "metadata": {},
     "output_type": "execute_result"
    }
   ],
   "source": [
    "df_test.head()"
   ]
  },
  {
   "cell_type": "code",
   "execution_count": 4,
   "metadata": {},
   "outputs": [
    {
     "data": {
      "text/html": [
       "<div>\n",
       "<style scoped>\n",
       "    .dataframe tbody tr th:only-of-type {\n",
       "        vertical-align: middle;\n",
       "    }\n",
       "\n",
       "    .dataframe tbody tr th {\n",
       "        vertical-align: top;\n",
       "    }\n",
       "\n",
       "    .dataframe thead th {\n",
       "        text-align: right;\n",
       "    }\n",
       "</style>\n",
       "<table border=\"1\" class=\"dataframe\">\n",
       "  <thead>\n",
       "    <tr style=\"text-align: right;\">\n",
       "      <th></th>\n",
       "      <th>user_id</th>\n",
       "      <th>sex</th>\n",
       "      <th>age</th>\n",
       "      <th>country</th>\n",
       "    </tr>\n",
       "  </thead>\n",
       "  <tbody>\n",
       "    <tr>\n",
       "      <th>0</th>\n",
       "      <td>765821</td>\n",
       "      <td>M</td>\n",
       "      <td>20</td>\n",
       "      <td>Mexico</td>\n",
       "    </tr>\n",
       "    <tr>\n",
       "      <th>1</th>\n",
       "      <td>343561</td>\n",
       "      <td>F</td>\n",
       "      <td>27</td>\n",
       "      <td>Nicaragua</td>\n",
       "    </tr>\n",
       "    <tr>\n",
       "      <th>2</th>\n",
       "      <td>118744</td>\n",
       "      <td>M</td>\n",
       "      <td>23</td>\n",
       "      <td>Colombia</td>\n",
       "    </tr>\n",
       "    <tr>\n",
       "      <th>3</th>\n",
       "      <td>987753</td>\n",
       "      <td>F</td>\n",
       "      <td>27</td>\n",
       "      <td>Venezuela</td>\n",
       "    </tr>\n",
       "    <tr>\n",
       "      <th>4</th>\n",
       "      <td>554597</td>\n",
       "      <td>F</td>\n",
       "      <td>20</td>\n",
       "      <td>Spain</td>\n",
       "    </tr>\n",
       "  </tbody>\n",
       "</table>\n",
       "</div>"
      ],
      "text/plain": [
       "   user_id sex  age    country\n",
       "0   765821   M   20     Mexico\n",
       "1   343561   F   27  Nicaragua\n",
       "2   118744   M   23   Colombia\n",
       "3   987753   F   27  Venezuela\n",
       "4   554597   F   20      Spain"
      ]
     },
     "execution_count": 4,
     "metadata": {},
     "output_type": "execute_result"
    }
   ],
   "source": [
    "df_user.head()"
   ]
  },
  {
   "cell_type": "code",
   "execution_count": 6,
   "metadata": {},
   "outputs": [
    {
     "data": {
      "text/plain": [
       "(452867, 4)"
      ]
     },
     "execution_count": 6,
     "metadata": {},
     "output_type": "execute_result"
    }
   ],
   "source": [
    "df_user.shape"
   ]
  },
  {
   "cell_type": "markdown",
   "metadata": {},
   "source": [
    "### Record diff\n",
    "Neither table includes duplicated records.\n",
    "\n",
    "test_table.csv has 454 additional user ids than user_table."
   ]
  },
  {
   "cell_type": "code",
   "execution_count": 14,
   "metadata": {},
   "outputs": [
    {
     "name": "stdout",
     "output_type": "stream",
     "text": [
      "(453321, 9)\n",
      "453321\n"
     ]
    }
   ],
   "source": [
    "print(df_test.shape)\n",
    "print(len(set(df_test.user_id)))"
   ]
  },
  {
   "cell_type": "code",
   "execution_count": 15,
   "metadata": {},
   "outputs": [
    {
     "name": "stdout",
     "output_type": "stream",
     "text": [
      "(452867, 4)\n",
      "452867\n"
     ]
    }
   ],
   "source": [
    "print(df_user.shape)\n",
    "print(len(set(df_user.user_id)))"
   ]
  },
  {
   "cell_type": "code",
   "execution_count": 13,
   "metadata": {},
   "outputs": [
    {
     "name": "stdout",
     "output_type": "stream",
     "text": [
      "set()\n",
      "454\n"
     ]
    }
   ],
   "source": [
    "print(set(df_user.user_id) - set(df_test.user_id))\n",
    "print(len(set(df_test.user_id) - set(df_user.user_id)))"
   ]
  },
  {
   "cell_type": "markdown",
   "metadata": {},
   "source": [
    "### Merge table\n",
    "\n",
    "We can choose different ways to handle the additional 454 rows:\n",
    "- Ignore them directly, since it's really a small propotion of the data\n",
    "- Leave them, and exclude them in calcusion for sex, age and country fields\n",
    "\n",
    "Now, I will just keep them as they are."
   ]
  },
  {
   "cell_type": "code",
   "execution_count": 19,
   "metadata": {},
   "outputs": [
    {
     "name": "stdout",
     "output_type": "stream",
     "text": [
      "(453321, 12)\n"
     ]
    },
    {
     "data": {
      "text/html": [
       "<div>\n",
       "<style scoped>\n",
       "    .dataframe tbody tr th:only-of-type {\n",
       "        vertical-align: middle;\n",
       "    }\n",
       "\n",
       "    .dataframe tbody tr th {\n",
       "        vertical-align: top;\n",
       "    }\n",
       "\n",
       "    .dataframe thead th {\n",
       "        text-align: right;\n",
       "    }\n",
       "</style>\n",
       "<table border=\"1\" class=\"dataframe\">\n",
       "  <thead>\n",
       "    <tr style=\"text-align: right;\">\n",
       "      <th></th>\n",
       "      <th>user_id</th>\n",
       "      <th>date</th>\n",
       "      <th>source</th>\n",
       "      <th>device</th>\n",
       "      <th>browser_language</th>\n",
       "      <th>ads_channel</th>\n",
       "      <th>browser</th>\n",
       "      <th>conversion</th>\n",
       "      <th>test</th>\n",
       "      <th>sex</th>\n",
       "      <th>age</th>\n",
       "      <th>country</th>\n",
       "    </tr>\n",
       "  </thead>\n",
       "  <tbody>\n",
       "    <tr>\n",
       "      <th>0</th>\n",
       "      <td>315281</td>\n",
       "      <td>12/3/2015</td>\n",
       "      <td>Direct</td>\n",
       "      <td>Web</td>\n",
       "      <td>ES</td>\n",
       "      <td>NaN</td>\n",
       "      <td>IE</td>\n",
       "      <td>1</td>\n",
       "      <td>0</td>\n",
       "      <td>M</td>\n",
       "      <td>32.0</td>\n",
       "      <td>Spain</td>\n",
       "    </tr>\n",
       "    <tr>\n",
       "      <th>1</th>\n",
       "      <td>497851</td>\n",
       "      <td>12/4/2015</td>\n",
       "      <td>Ads</td>\n",
       "      <td>Web</td>\n",
       "      <td>ES</td>\n",
       "      <td>Google</td>\n",
       "      <td>IE</td>\n",
       "      <td>0</td>\n",
       "      <td>1</td>\n",
       "      <td>M</td>\n",
       "      <td>21.0</td>\n",
       "      <td>Mexico</td>\n",
       "    </tr>\n",
       "    <tr>\n",
       "      <th>2</th>\n",
       "      <td>848402</td>\n",
       "      <td>12/4/2015</td>\n",
       "      <td>Ads</td>\n",
       "      <td>Web</td>\n",
       "      <td>ES</td>\n",
       "      <td>Facebook</td>\n",
       "      <td>Chrome</td>\n",
       "      <td>0</td>\n",
       "      <td>0</td>\n",
       "      <td>M</td>\n",
       "      <td>34.0</td>\n",
       "      <td>Spain</td>\n",
       "    </tr>\n",
       "    <tr>\n",
       "      <th>3</th>\n",
       "      <td>290051</td>\n",
       "      <td>12/3/2015</td>\n",
       "      <td>Ads</td>\n",
       "      <td>Mobile</td>\n",
       "      <td>Other</td>\n",
       "      <td>Facebook</td>\n",
       "      <td>Android_App</td>\n",
       "      <td>0</td>\n",
       "      <td>1</td>\n",
       "      <td>F</td>\n",
       "      <td>22.0</td>\n",
       "      <td>Mexico</td>\n",
       "    </tr>\n",
       "    <tr>\n",
       "      <th>4</th>\n",
       "      <td>548435</td>\n",
       "      <td>11/30/2015</td>\n",
       "      <td>Ads</td>\n",
       "      <td>Web</td>\n",
       "      <td>ES</td>\n",
       "      <td>Google</td>\n",
       "      <td>FireFox</td>\n",
       "      <td>0</td>\n",
       "      <td>1</td>\n",
       "      <td>M</td>\n",
       "      <td>19.0</td>\n",
       "      <td>Mexico</td>\n",
       "    </tr>\n",
       "  </tbody>\n",
       "</table>\n",
       "</div>"
      ],
      "text/plain": [
       "   user_id        date  source  device browser_language ads_channel  \\\n",
       "0   315281   12/3/2015  Direct     Web               ES         NaN   \n",
       "1   497851   12/4/2015     Ads     Web               ES      Google   \n",
       "2   848402   12/4/2015     Ads     Web               ES    Facebook   \n",
       "3   290051   12/3/2015     Ads  Mobile            Other    Facebook   \n",
       "4   548435  11/30/2015     Ads     Web               ES      Google   \n",
       "\n",
       "       browser  conversion  test sex   age country  \n",
       "0           IE           1     0   M  32.0   Spain  \n",
       "1           IE           0     1   M  21.0  Mexico  \n",
       "2       Chrome           0     0   M  34.0   Spain  \n",
       "3  Android_App           0     1   F  22.0  Mexico  \n",
       "4      FireFox           0     1   M  19.0  Mexico  "
      ]
     },
     "execution_count": 19,
     "metadata": {},
     "output_type": "execute_result"
    }
   ],
   "source": [
    "df = df_test.merge(df_user, how='left')\n",
    "print(df.shape)\n",
    "df.head()"
   ]
  },
  {
   "cell_type": "markdown",
   "metadata": {},
   "source": [
    "### Unbalanced sample design\n",
    "\n",
    "- Uruguay and Argentina show obvious unbalance in experiment design of having insufficient reference samples"
   ]
  },
  {
   "cell_type": "code",
   "execution_count": 60,
   "metadata": {},
   "outputs": [
    {
     "data": {
      "text/html": [
       "<div>\n",
       "<style scoped>\n",
       "    .dataframe tbody tr th:only-of-type {\n",
       "        vertical-align: middle;\n",
       "    }\n",
       "\n",
       "    .dataframe tbody tr th {\n",
       "        vertical-align: top;\n",
       "    }\n",
       "\n",
       "    .dataframe thead tr th {\n",
       "        text-align: left;\n",
       "    }\n",
       "</style>\n",
       "<table border=\"1\" class=\"dataframe\">\n",
       "  <thead>\n",
       "    <tr>\n",
       "      <th></th>\n",
       "      <th>country</th>\n",
       "      <th colspan=\"2\" halign=\"left\">conversion</th>\n",
       "      <th>ratio</th>\n",
       "    </tr>\n",
       "    <tr>\n",
       "      <th>test</th>\n",
       "      <th></th>\n",
       "      <th>0</th>\n",
       "      <th>1</th>\n",
       "      <th></th>\n",
       "    </tr>\n",
       "  </thead>\n",
       "  <tbody>\n",
       "    <tr>\n",
       "      <th>15</th>\n",
       "      <td>Uruguay</td>\n",
       "      <td>415.0</td>\n",
       "      <td>3719.0</td>\n",
       "      <td>0.111589</td>\n",
       "    </tr>\n",
       "    <tr>\n",
       "      <th>0</th>\n",
       "      <td>Argentina</td>\n",
       "      <td>9356.0</td>\n",
       "      <td>37377.0</td>\n",
       "      <td>0.250314</td>\n",
       "    </tr>\n",
       "    <tr>\n",
       "      <th>12</th>\n",
       "      <td>Paraguay</td>\n",
       "      <td>3650.0</td>\n",
       "      <td>3697.0</td>\n",
       "      <td>0.987287</td>\n",
       "    </tr>\n",
       "    <tr>\n",
       "      <th>11</th>\n",
       "      <td>Panama</td>\n",
       "      <td>1966.0</td>\n",
       "      <td>1985.0</td>\n",
       "      <td>0.990428</td>\n",
       "    </tr>\n",
       "    <tr>\n",
       "      <th>1</th>\n",
       "      <td>Bolivia</td>\n",
       "      <td>5550.0</td>\n",
       "      <td>5574.0</td>\n",
       "      <td>0.995694</td>\n",
       "    </tr>\n",
       "    <tr>\n",
       "      <th>2</th>\n",
       "      <td>Chile</td>\n",
       "      <td>9853.0</td>\n",
       "      <td>9884.0</td>\n",
       "      <td>0.996864</td>\n",
       "    </tr>\n",
       "    <tr>\n",
       "      <th>9</th>\n",
       "      <td>Mexico</td>\n",
       "      <td>64209.0</td>\n",
       "      <td>64275.0</td>\n",
       "      <td>0.998973</td>\n",
       "    </tr>\n",
       "    <tr>\n",
       "      <th>4</th>\n",
       "      <td>Costa Rica</td>\n",
       "      <td>2660.0</td>\n",
       "      <td>2649.0</td>\n",
       "      <td>1.004153</td>\n",
       "    </tr>\n",
       "    <tr>\n",
       "      <th>13</th>\n",
       "      <td>Peru</td>\n",
       "      <td>16869.0</td>\n",
       "      <td>16797.0</td>\n",
       "      <td>1.004286</td>\n",
       "    </tr>\n",
       "    <tr>\n",
       "      <th>3</th>\n",
       "      <td>Colombia</td>\n",
       "      <td>27088.0</td>\n",
       "      <td>26972.0</td>\n",
       "      <td>1.004301</td>\n",
       "    </tr>\n",
       "    <tr>\n",
       "      <th>6</th>\n",
       "      <td>El Salvador</td>\n",
       "      <td>4108.0</td>\n",
       "      <td>4067.0</td>\n",
       "      <td>1.010081</td>\n",
       "    </tr>\n",
       "    <tr>\n",
       "      <th>16</th>\n",
       "      <td>Venezuela</td>\n",
       "      <td>16149.0</td>\n",
       "      <td>15905.0</td>\n",
       "      <td>1.015341</td>\n",
       "    </tr>\n",
       "    <tr>\n",
       "      <th>7</th>\n",
       "      <td>Guatemala</td>\n",
       "      <td>7622.0</td>\n",
       "      <td>7503.0</td>\n",
       "      <td>1.015860</td>\n",
       "    </tr>\n",
       "    <tr>\n",
       "      <th>5</th>\n",
       "      <td>Ecuador</td>\n",
       "      <td>8036.0</td>\n",
       "      <td>7859.0</td>\n",
       "      <td>1.022522</td>\n",
       "    </tr>\n",
       "    <tr>\n",
       "      <th>10</th>\n",
       "      <td>Nicaragua</td>\n",
       "      <td>3419.0</td>\n",
       "      <td>3304.0</td>\n",
       "      <td>1.034806</td>\n",
       "    </tr>\n",
       "    <tr>\n",
       "      <th>8</th>\n",
       "      <td>Honduras</td>\n",
       "      <td>4361.0</td>\n",
       "      <td>4207.0</td>\n",
       "      <td>1.036606</td>\n",
       "    </tr>\n",
       "    <tr>\n",
       "      <th>14</th>\n",
       "      <td>Spain</td>\n",
       "      <td>51782.0</td>\n",
       "      <td>NaN</td>\n",
       "      <td>NaN</td>\n",
       "    </tr>\n",
       "  </tbody>\n",
       "</table>\n",
       "</div>"
      ],
      "text/plain": [
       "          country conversion              ratio\n",
       "test                       0        1          \n",
       "15        Uruguay      415.0   3719.0  0.111589\n",
       "0       Argentina     9356.0  37377.0  0.250314\n",
       "12       Paraguay     3650.0   3697.0  0.987287\n",
       "11         Panama     1966.0   1985.0  0.990428\n",
       "1         Bolivia     5550.0   5574.0  0.995694\n",
       "2           Chile     9853.0   9884.0  0.996864\n",
       "9          Mexico    64209.0  64275.0  0.998973\n",
       "4      Costa Rica     2660.0   2649.0  1.004153\n",
       "13           Peru    16869.0  16797.0  1.004286\n",
       "3        Colombia    27088.0  26972.0  1.004301\n",
       "6     El Salvador     4108.0   4067.0  1.010081\n",
       "16      Venezuela    16149.0  15905.0  1.015341\n",
       "7       Guatemala     7622.0   7503.0  1.015860\n",
       "5         Ecuador     8036.0   7859.0  1.022522\n",
       "10      Nicaragua     3419.0   3304.0  1.034806\n",
       "8        Honduras     4361.0   4207.0  1.036606\n",
       "14          Spain    51782.0      NaN       NaN"
      ]
     },
     "execution_count": 60,
     "metadata": {},
     "output_type": "execute_result"
    }
   ],
   "source": [
    "sample_sizes = df[['country', 'test', 'conversion']].groupby(['country', 'test']).count().reset_index().pivot(index='country', columns='test').reset_index()\n",
    "sample_sizes['ratio'] = sample_sizes[('conversion', 0)] / sample_sizes[('conversion', 1)]\n",
    "sample_sizes.sort_values(by='ratio')"
   ]
  },
  {
   "cell_type": "markdown",
   "metadata": {},
   "source": [
    "### Visualize the difference of different segments"
   ]
  },
  {
   "cell_type": "code",
   "execution_count": 26,
   "metadata": {},
   "outputs": [
    {
     "data": {
      "text/plain": [
       "<AxesSubplot:xlabel='country', ylabel='conversion'>"
      ]
     },
     "execution_count": 26,
     "metadata": {},
     "output_type": "execute_result"
    },
    {
     "data": {
      "image/png": "[encoded data removed]",
      "text/plain": [
       "<Figure size 1296x432 with 1 Axes>"
      ]
     },
     "metadata": {
      "needs_background": "light"
     },
     "output_type": "display_data"
    }
   ],
   "source": [
    "plt.figure(figsize=(18, 6))\n",
    "sns.barplot(x='country',y='conversion',hue='test',data=df)"
   ]
  },
  {
   "cell_type": "markdown",
   "metadata": {},
   "source": [
    "**!! Exclude unbalanced or irrelavant data**"
   ]
  },
  {
   "cell_type": "code",
   "execution_count": 72,
   "metadata": {},
   "outputs": [
    {
     "data": {
      "text/plain": [
       "(350672, 12)"
      ]
     },
     "execution_count": 72,
     "metadata": {},
     "output_type": "execute_result"
    }
   ],
   "source": [
    "df = df[df.country!='Spain']\n",
    "df = df[df.country!='Uruguay']\n",
    "df = df[df.country!='Argentina']\n",
    "df.shape"
   ]
  },
  {
   "cell_type": "code",
   "execution_count": 73,
   "metadata": {},
   "outputs": [
    {
     "data": {
      "text/plain": [
       "<AxesSubplot:xlabel='sex', ylabel='conversion'>"
      ]
     },
     "execution_count": 73,
     "metadata": {},
     "output_type": "execute_result"
    },
    {
     "data": {
      "image/png": "[encoded data removed]",
      "text/plain": [
       "<Figure size 576x288 with 1 Axes>"
      ]
     },
     "metadata": {
      "needs_background": "light"
     },
     "output_type": "display_data"
    }
   ],
   "source": [
    "plt.figure(figsize=(8, 4))\n",
    "sns.barplot(x='sex',y='conversion',hue='test',data=df)"
   ]
  },
  {
   "cell_type": "code",
   "execution_count": 74,
   "metadata": {},
   "outputs": [
    {
     "data": {
      "text/plain": [
       "<AxesSubplot:xlabel='source', ylabel='conversion'>"
      ]
     },
     "execution_count": 74,
     "metadata": {},
     "output_type": "execute_result"
    },
    {
     "data": {
      "image/png": "[encoded data removed]",
      "text/plain": [
       "<Figure size 576x288 with 1 Axes>"
      ]
     },
     "metadata": {
      "needs_background": "light"
     },
     "output_type": "display_data"
    }
   ],
   "source": [
    "plt.figure(figsize=(8, 4))\n",
    "sns.barplot(x='source',y='conversion',hue='test',data=df)"
   ]
  },
  {
   "cell_type": "code",
   "execution_count": 75,
   "metadata": {},
   "outputs": [
    {
     "data": {
      "text/plain": [
       "<AxesSubplot:xlabel='device', ylabel='conversion'>"
      ]
     },
     "execution_count": 75,
     "metadata": {},
     "output_type": "execute_result"
    },
    {
     "data": {
      "image/png": "[encoded data removed]",
      "text/plain": [
       "<Figure size 576x288 with 1 Axes>"
      ]
     },
     "metadata": {
      "needs_background": "light"
     },
     "output_type": "display_data"
    }
   ],
   "source": [
    "plt.figure(figsize=(8, 4))\n",
    "sns.barplot(x='device',y='conversion',hue='test',data=df)"
   ]
  },
  {
   "cell_type": "code",
   "execution_count": 80,
   "metadata": {},
   "outputs": [
    {
     "data": {
      "text/plain": [
       "<AxesSubplot:xlabel='date', ylabel='conversion'>"
      ]
     },
     "execution_count": 80,
     "metadata": {},
     "output_type": "execute_result"
    },
    {
     "data": {
      "image/png": "[encoded data removed]",
      "text/plain": [
       "<Figure size 720x288 with 1 Axes>"
      ]
     },
     "metadata": {
      "needs_background": "light"
     },
     "output_type": "display_data"
    }
   ],
   "source": [
    "plt.figure(figsize=(10, 4))\n",
    "sns.barplot(x='date',y='conversion',hue='test',data=df.sort_values(by='date'))"
   ]
  },
  {
   "cell_type": "markdown",
   "metadata": {},
   "source": [
    "# Enough Sample Size?"
   ]
  },
  {
   "cell_type": "code",
   "execution_count": 112,
   "metadata": {},
   "outputs": [
    {
     "data": {
      "text/plain": [
       "13600196"
      ]
     },
     "execution_count": 112,
     "metadata": {},
     "output_type": "execute_result"
    }
   ],
   "source": [
    "# Power test to determine sample size for a certain stat power & significance level:\n",
    "def sample_power_probtest(p1, p2, power=0.8, sig=0.05):\n",
    "    z = stats.norm.isf([sig/2]) #two-sided t test\n",
    "    zp = -1 * stats.norm.isf([power]) \n",
    "    d = (p1-p2)\n",
    "    s =2*((p1+p2) /2)*(1-((p1+p2) /2))\n",
    "    n = s * ((zp + z)**2) / (d**2)\n",
    "    return int(round(n[0]))\n",
    "\n",
    "p1 = df[df['test']==1]['conversion'].mean()\n",
    "p2 = df[df['test']==0]['conversion'].mean()\n",
    "sample_power_probtest(p1, p2)"
   ]
  },
  {
   "cell_type": "markdown",
   "metadata": {},
   "source": [
    "According to the calculation of the above function, we need 13,600,196 samples to get a solide conclusion, which is far more than what we have at hand."
   ]
  },
  {
   "cell_type": "code",
   "execution_count": 114,
   "metadata": {},
   "outputs": [
    {
     "name": "stdout",
     "output_type": "stream",
     "text": [
      "0.05042112907191501 0.05018630713655887\n",
      "350672\n"
     ]
    }
   ],
   "source": [
    "print(p1, p2)\n",
    "print(len(df))"
   ]
  },
  {
   "cell_type": "markdown",
   "metadata": {},
   "source": [
    "# AB-Test / tTest"
   ]
  },
  {
   "cell_type": "code",
   "execution_count": 85,
   "metadata": {},
   "outputs": [
    {
     "name": "stdout",
     "output_type": "stream",
     "text": [
      "p-value:  0.7504082947797941\n"
     ]
    }
   ],
   "source": [
    "# statistic = (list(stats.ttest_ind(dated_data[dated_data.test == 1].conversion,\n",
    "#                           dated_data[dated_data.test == 0].conversion)))\n",
    "result = stats.ttest_ind(df[df.test == 1].conversion, df[df.test == 0].conversion)\n",
    "print('p-value: ', result[1])"
   ]
  },
  {
   "cell_type": "code",
   "execution_count": 106,
   "metadata": {},
   "outputs": [],
   "source": [
    "# Compute t-test for each segment of the experiment and display them in lists along with p-values\n",
    "def get_ttest_pvalue(df, val):\n",
    "    statistic_list = []\n",
    "    for v in sorted(df[val].unique(), key=str):\n",
    "        df_v = df[df[val] == v]\n",
    "        statistic = (list(stats.ttest_ind(df_v[df_v.test == 1].conversion,\n",
    "                            df_v[df_v.test == 0].conversion)))\n",
    "        statistic[1] = \"%.16f\" % statistic[1]\n",
    "        statistic_list.append(statistic)\n",
    "        print(v, ': ', statistic[1])\n"
   ]
  },
  {
   "cell_type": "code",
   "execution_count": 107,
   "metadata": {},
   "outputs": [
    {
     "name": "stdout",
     "output_type": "stream",
     "text": [
      "Bolivia :  0.7188769243244486\n",
      "Chile :  0.3028707161366122\n",
      "Colombia :  0.4237329893677158\n",
      "Costa Rica :  0.6878629303268544\n",
      "Ecuador :  0.9615123742251157\n",
      "El Salvador :  0.2482506809738994\n",
      "Guatemala :  0.5721648004081855\n",
      "Honduras :  0.4717211680827569\n",
      "Mexico :  0.1655471793333996\n",
      "Nicaragua :  0.7803508783178821\n",
      "Panama :  0.7053611759024120\n",
      "Paraguay :  0.8837017802593760\n",
      "Peru :  0.7719499041764490\n",
      "Venezuela :  0.5737395248962414\n",
      "nan :  nan\n"
     ]
    }
   ],
   "source": [
    "get_ttest_pvalue(df, 'country')"
   ]
  },
  {
   "cell_type": "code",
   "execution_count": 109,
   "metadata": {},
   "outputs": [
    {
     "name": "stdout",
     "output_type": "stream",
     "text": [
      "F :  0.8586822685314282\n",
      "M :  0.7498372289749360\n",
      "nan :  nan\n"
     ]
    }
   ],
   "source": [
    "get_ttest_pvalue(df, 'sex')"
   ]
  },
  {
   "cell_type": "code",
   "execution_count": 110,
   "metadata": {},
   "outputs": [
    {
     "name": "stdout",
     "output_type": "stream",
     "text": [
      "Ads :  0.9728251123454477\n",
      "Direct :  0.3439782656765242\n",
      "SEO :  0.2510098134125751\n"
     ]
    }
   ],
   "source": [
    "get_ttest_pvalue(df, 'source')"
   ]
  },
  {
   "cell_type": "code",
   "execution_count": 111,
   "metadata": {},
   "outputs": [
    {
     "name": "stdout",
     "output_type": "stream",
     "text": [
      "Mobile :  0.5803560165543280\n",
      "Web :  0.9410818100495216\n"
     ]
    }
   ],
   "source": [
    "get_ttest_pvalue(df, 'device')"
   ]
  },
  {
   "cell_type": "code",
   "execution_count": 108,
   "metadata": {},
   "outputs": [
    {
     "name": "stdout",
     "output_type": "stream",
     "text": [
      "11/30/2015 :  0.3540698118482746\n",
      "12/1/2015 :  0.7749060566119294\n",
      "12/2/2015 :  0.6297756468170441\n",
      "12/3/2015 :  0.6933416604802254\n",
      "12/4/2015 :  0.1504745493423540\n"
     ]
    }
   ],
   "source": [
    "get_ttest_pvalue(df, 'date')"
   ]
  },
  {
   "cell_type": "markdown",
   "metadata": {},
   "source": [
    "None significant difference is shown on any subsegment.\n",
    "\n",
    "By now, we cannot couclude that the test is negative, given all the p-values are large, obviously bigger than 0.05."
   ]
  },
  {
   "cell_type": "markdown",
   "metadata": {},
   "source": [
    "# Possible problems to cause experiment fault\n",
    "\n",
    "- Unbalanced sample sizes: Bias has been introduced so that the test/control groups are not really random.\n",
    "\n",
    "- Length of experiment: We don't have enough data yet."
   ]
  }
 ],
 "metadata": {
  "kernelspec": {
   "display_name": "python38",
   "language": "python",
   "name": "python3"
  },
  "language_info": {
   "codemirror_mode": {
    "name": "ipython",
    "version": 3
   },
   "file_extension": ".py",
   "mimetype": "text/x-python",
   "name": "python",
   "nbconvert_exporter": "python",
   "pygments_lexer": "ipython3",
   "version": "3.9.7"
  }
 },
 "nbformat": 4,
 "nbformat_minor": 2
}
